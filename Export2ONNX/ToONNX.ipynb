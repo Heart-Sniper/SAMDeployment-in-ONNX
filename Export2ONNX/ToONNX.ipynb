{
 "cells": [
  {
   "cell_type": "code",
   "execution_count": 3,
   "metadata": {
    "ExecuteTime": {
     "end_time": "2023-09-18T08:49:43.642409500Z",
     "start_time": "2023-09-18T08:49:43.636409400Z"
    },
    "collapsed": true
   },
   "outputs": [
    {
     "name": "stdout",
     "output_type": "stream",
     "text": [
      "PyTorch version: 2.0.1+cu117\n",
      "CUDA is available: True\n"
     ]
    }
   ],
   "source": [
    "import torch\n",
    "\n",
    "print(\"PyTorch version:\", torch.__version__)\n",
    "print(\"CUDA is available:\", torch.cuda.is_available())\n",
    "\n",
    "from segment_anything import sam_model_registry, SamAutomaticMaskGenerator\n",
    "from segment_anything.utils.onnx import SamOnnxModel\n",
    "\n",
    "import onnxruntime\n",
    "from onnxruntime.quantization import QuantType\n",
    "from onnxruntime.quantization.quantize import quantize_dynamic"
   ]
  },
  {
   "cell_type": "code",
   "execution_count": null,
   "metadata": {
    "collapsed": false
   },
   "outputs": [],
   "source": [
    "! conda list"
   ]
  },
  {
   "cell_type": "code",
   "execution_count": null,
   "metadata": {
    "collapsed": false
   },
   "outputs": [],
   "source": [
    "parameters = {\n",
    "\n",
    "    # dataset:\n",
    "    'image_path': \"D:/Project/WovenBagDetection/Datasets/MiniBatchForTest/\",\n",
    "    'save_path': \"D:/Project/WovenBagDetection/WBDetectionWithPytorch/Test_Result\",\n",
    "\n",
    "    # model:\n",
    "    'SAM_checkpoint_path': \"D:/Project/WovenBagDetection/ModelCheckpoint_Pytorch/SegmentAnything/SAM_vit_b/sam_vit_b_01ec64.pth\",\n",
    "    'model_type': \"vit_b\",\n",
    "    'ONNX_model_path': \"D:/Project/WovenBagDetection/ONNX/sam_onnx_example.onnx\"\n",
    "}"
   ]
  },
  {
   "cell_type": "code",
   "execution_count": null,
   "metadata": {
    "collapsed": false
   },
   "outputs": [],
   "source": [
    "sam = sam_model_registry[parameters['model_type']](checkpoint = parameters['SAM_checkpoint_path'])\n",
    "#sam.to(device = \"cuda\")\n",
    "\n",
    "mask_generator = SamAutomaticMaskGenerator(\n",
    "    model = sam,\n",
    "    points_per_side = 32,\n",
    "    pred_iou_thresh = 0.8,\n",
    "    stability_score_thresh = 0.9,\n",
    "    crop_n_layers = 1,\n",
    "    crop_n_points_downscale_factor = 2,\n",
    "    min_mask_region_area = 100,  # Requires open-cv to run post-processing\n",
    ")"
   ]
  },
  {
   "cell_type": "code",
   "execution_count": null,
   "metadata": {
    "collapsed": false
   },
   "outputs": [],
   "source": [
    "import warnings\n",
    "\n",
    "onnx_model = SamOnnxModel(sam, return_single_mask = True)\n",
    "\n",
    "dynamic_axes = {\n",
    "    \"point_coords\": {1: \"num_points\"},\n",
    "    \"point_labels\": {1: \"num_points\"},\n",
    "}\n",
    "\n",
    "embed_dim = sam.prompt_encoder.embed_dim\n",
    "embed_size = sam.prompt_encoder.image_embedding_size\n",
    "mask_input_size = [4 * x for x in embed_size]\n",
    "dummy_inputs = {\n",
    "    \"image_embeddings\": torch.randn(1, embed_dim, *embed_size, dtype=torch.float),\n",
    "    \"point_coords\": torch.randint(low=0, high=1024, size=(1, 5, 2), dtype=torch.float),\n",
    "    \"point_labels\": torch.randint(low=0, high=4, size=(1, 5), dtype=torch.float),\n",
    "    \"mask_input\": torch.randn(1, 1, *mask_input_size, dtype=torch.float),\n",
    "    \"has_mask_input\": torch.tensor([1], dtype=torch.float),\n",
    "    \"orig_im_size\": torch.tensor([1500, 2250], dtype=torch.float),\n",
    "}\n",
    "output_names = [\"masks\", \"iou_predictions\", \"low_res_masks\"]\n",
    "\n",
    "with warnings.catch_warnings():\n",
    "    warnings.filterwarnings(\"ignore\", category=torch.jit.TracerWarning)\n",
    "    warnings.filterwarnings(\"ignore\", category=UserWarning)\n",
    "    with open(parameters[\"ONNX_model_path\"], \"wb\") as f:\n",
    "        torch.onnx.export(\n",
    "            onnx_model,\n",
    "            tuple(dummy_inputs.values()),\n",
    "            f,\n",
    "            export_params=True,\n",
    "            verbose=False,\n",
    "            opset_version=17,\n",
    "            do_constant_folding=True,\n",
    "            input_names=list(dummy_inputs.keys()),\n",
    "            output_names=output_names,\n",
    "            dynamic_axes=dynamic_axes,\n",
    "        )"
   ]
  },
  {
   "cell_type": "code",
   "execution_count": null,
   "metadata": {
    "collapsed": false
   },
   "outputs": [],
   "source": [
    "onnx_model_quantized_path = \"sam_onnx_quantized_example.onnx\"\n",
    "quantize_dynamic(\n",
    "    model_input=parameters[\"ONNX_model_path\"],\n",
    "    model_output=onnx_model_quantized_path,\n",
    "    optimize_model=True,\n",
    "    per_channel=False,\n",
    "    reduce_range=False,\n",
    "    weight_type=QuantType.QUInt8,\n",
    ")\n",
    "onnx_model_path = onnx_model_quantized_path"
   ]
  },
  {
   "cell_type": "markdown",
   "metadata": {
    "collapsed": false
   },
   "source": [
    "# Test"
   ]
  },
  {
   "cell_type": "code",
   "execution_count": null,
   "metadata": {
    "collapsed": false
   },
   "outputs": [],
   "source": [
    "import cv2\n",
    "import onnxruntime\n",
    "import matplotlib.pyplot as plt\n",
    "\n",
    "from segment_anything import sam_model_registry, SamAutomaticMaskGenerator, SamPredictor\n",
    "from segment_anything.utils.onnx import SamOnnxModel"
   ]
  },
  {
   "cell_type": "code",
   "execution_count": null,
   "metadata": {
    "collapsed": false
   },
   "outputs": [],
   "source": [
    "test_param = {\n",
    "    'test_image_path': \"D:/Project/WovenBagDetection/Datasets/MiniBatchForTest/NG/202363016245851.bmp\",\n",
    "    'ONNX_model_path': \"D:/Project/WovenBagDetection/ONNX/sam_onnx_example.onnx\",\n",
    "    'model_type': 'vit_b',\n",
    "    'SAM_checkpoint_path': \"D:/Project/WovenBagDetection/ModelCheckpoint_Pytorch/SegmentAnything/SAM_vit_b/sam_vit_b_01ec64.pth\"\n",
    "}"
   ]
  },
  {
   "cell_type": "code",
   "execution_count": null,
   "metadata": {
    "collapsed": false
   },
   "outputs": [],
   "source": [
    "image = cv2.imread(test_param['test_image_path'])\n",
    "image = cv2.cvtColor(image, cv2.COLOR_BGR2RGB)"
   ]
  },
  {
   "cell_type": "code",
   "execution_count": null,
   "metadata": {
    "collapsed": false
   },
   "outputs": [],
   "source": [
    "ort_session = onnxruntime.InferenceSession(test_param['ONNX_model_path'])"
   ]
  },
  {
   "cell_type": "code",
   "execution_count": null,
   "metadata": {
    "collapsed": false
   },
   "outputs": [],
   "source": [
    "sam = sam_model_registry[test_param['model_type']](checkpoint = test_param['SAM_checkpoint_path'])\n",
    "sam.to(device = 'cuda')\n",
    "predictor = SamPredictor(sam)\n",
    "predictor.set_image(image)"
   ]
  },
  {
   "cell_type": "code",
   "execution_count": null,
   "metadata": {
    "collapsed": false
   },
   "outputs": [],
   "source": [
    "image_embedding = predictor.get_image_embedding().cpu().numpy()"
   ]
  },
  {
   "cell_type": "code",
   "execution_count": null,
   "metadata": {
    "collapsed": false
   },
   "outputs": [],
   "source": [
    "image_embedding.shape"
   ]
  },
  {
   "cell_type": "code",
   "execution_count": null,
   "metadata": {
    "collapsed": false
   },
   "outputs": [],
   "source": [
    "plt.imshow(image_embedding)"
   ]
  },
  {
   "cell_type": "code",
   "execution_count": 1,
   "metadata": {
    "ExecuteTime": {
     "end_time": "2023-09-18T08:49:37.572268900Z",
     "start_time": "2023-09-18T08:49:37.511830700Z"
    },
    "collapsed": false
   },
   "outputs": [
    {
     "name": "stdout",
     "output_type": "stream",
     "text": [
      "Loading model...\n",
      "Exporting onnx model to D:\\Project\\WovenBagDetection\\GenerateMask\\SAM_ONNX\\sam_vit_b_pmencoder.onnx...\n",
      "============= Diagnostic Run torch.onnx.export version 2.0.1+cu117 =============\n",
      "verbose: False, log level: Level.ERROR\n",
      "======================= 0 NONE 0 NOTE 0 WARNING 0 ERROR ========================\n",
      "\n",
      "Model has successfully been run with ONNXRuntime.\n"
     ]
    }
   ],
   "source": [
    "! python C:\\Users\\92736\\segment-anything\\scripts\\export_onnx_model.py \\\n",
    "    --checkpoint D:\\Project\\WovenBagDetection\\GenerateMask\\SAMModelCheckpoint\\SegmentAnything\\SAM_vit_b\\sam_vit_b_01ec64.pth \\\n",
    "    --output D:\\Project\\WovenBagDetection\\GenerateMask\\SAM_ONNX\\sam_vit_b_pmencoder.onnx \\\n",
    "    --model-type vit_b \\\n",
    "    --opset 12\n"
   ]
  },
  {
   "cell_type": "code",
   "execution_count": 3,
   "metadata": {
    "collapsed": false
   },
   "outputs": [
    {
     "name": "stdout",
     "output_type": "stream",
     "text": [
      "============= Diagnostic Run torch.onnx.export version 2.0.1+cu117 =============\n",
      "verbose: False, log level: Level.ERROR\n",
      "======================= 0 NONE 0 NOTE 0 WARNING 0 ERROR ========================\n",
      "\n"
     ]
    }
   ],
   "source": [
    "import torch\n",
    "\n",
    "from collections import OrderedDict\n",
    "from functools import partial\n",
    "from segment_anything.modeling.image_encoder import ImageEncoderViT\n",
    "\n",
    "\n",
    "encoder = ImageEncoderViT(\n",
    "            depth=12,\n",
    "            embed_dim=768,\n",
    "            img_size=1024,\n",
    "            mlp_ratio=4,\n",
    "            norm_layer=partial(torch.nn.LayerNorm, eps=1e-6),\n",
    "            num_heads=12,\n",
    "            patch_size=16,\n",
    "            qkv_bias=True,\n",
    "            use_rel_pos=True,\n",
    "            global_attn_indexes=[2, 5, 8, 11],\n",
    "            window_size=14,\n",
    "            out_chans=256,\n",
    "        )\n",
    "\n",
    "param = torch.load(\"D:\\Project\\WovenBagDetection\\GenerateMask\\SAMModelCheckpoint\\SegmentAnything\\SAM_vit_b\\sam_vit_b_01ec64.pth\")\n",
    "\n",
    "d = OrderedDict()\n",
    "for k in param:\n",
    "    if \"image_encoder\" in k:\n",
    "        d[k[14:]] = param[k]\n",
    "\n",
    "encoder.load_state_dict(d)\n",
    "encoder.eval()\n",
    "\n",
    "x = torch.randn((1, 3, 1024, 1024))\n",
    "torch.onnx.export(encoder,\n",
    "                  x,\n",
    "                  \"D:\\Project\\WovenBagDetection\\GenerateMask\\SAM_ONNX\\sam_vit_b_encoder.onnx\",\n",
    "                  opset_version=12,\n",
    "                  input_names=[\"input\"],\n",
    "                  output_names=[\"output\"])\n"
   ]
  },
  {
   "cell_type": "code",
   "execution_count": 2,
   "metadata": {},
   "outputs": [
    {
     "name": "stdout",
     "output_type": "stream",
     "text": [
      "Loading model...\n",
      "Exporting onnx model to D:\\Project\\WovenBagDetection\\GenerateMask\\SAM_ONNX\\sam_vit_b_imgencoder.onnx...\n",
      "============= Diagnostic Run torch.onnx.export version 2.0.1+cu117 =============\n",
      "verbose: False, log level: Level.ERROR\n",
      "======================= 0 NONE 0 NOTE 0 WARNING 0 ERROR ========================\n",
      "\n",
      "Model has successfully been run with ONNXRuntime.\n"
     ]
    }
   ],
   "source": [
    "! python D:\\Project\\WovenBagDetection\\GenerateMask\\segment-anything\\scripts\\export_image_encoder.py \\\n",
    "--checkpoint D:\\Project\\WovenBagDetection\\GenerateMask\\SAMModelCheckpoint\\SegmentAnything\\SAM_vit_b\\sam_vit_b_01ec64.pth \\\n",
    "--output D:\\Project\\WovenBagDetection\\GenerateMask\\SAM_ONNX\\sam_vit_b_imgencoder.onnx \\\n",
    "--model-type vit_b \\\n",
    "--opset 12"
   ]
  },
  {
   "cell_type": "code",
   "execution_count": null,
   "metadata": {},
   "outputs": [],
   "source": []
  }
 ],
 "metadata": {
  "kernelspec": {
   "display_name": "Python 3",
   "language": "python",
   "name": "python3"
  },
  "language_info": {
   "codemirror_mode": {
    "name": "ipython",
    "version": 3
   },
   "file_extension": ".py",
   "mimetype": "text/x-python",
   "name": "python",
   "nbconvert_exporter": "python",
   "pygments_lexer": "ipython3",
   "version": "3.10.12"
  }
 },
 "nbformat": 4,
 "nbformat_minor": 0
}
